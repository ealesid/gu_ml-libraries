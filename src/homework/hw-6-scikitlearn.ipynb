{
 "cells": [
  {
   "cell_type": "markdown",
   "metadata": {},
   "source": [
    "## Задание 1"
   ]
  },
  {
   "cell_type": "code",
   "execution_count": 1,
   "metadata": {},
   "outputs": [],
   "source": [
    "## Импортируйте библиотеки pandas и numpy.\n",
    "\n",
    "import numpy as np\n",
    "import pandas as pd"
   ]
  },
  {
   "cell_type": "code",
   "execution_count": 2,
   "metadata": {},
   "outputs": [],
   "source": [
    "## Загрузите \"Boston House Prices dataset\" из встроенных наборов данных библиотеки sklearn.\n",
    "\n",
    "from sklearn.datasets import load_boston\n",
    "boston = load_boston()"
   ]
  },
  {
   "cell_type": "code",
   "execution_count": 3,
   "metadata": {},
   "outputs": [],
   "source": [
    "## Создайте датафреймы X и y из этих данных.\n",
    "\n",
    "data = boston.data\n",
    "feature_names = boston.feature_names\n",
    "target = boston.target"
   ]
  },
  {
   "cell_type": "code",
   "execution_count": 4,
   "metadata": {},
   "outputs": [],
   "source": [
    "X = pd.DataFrame(data, columns=feature_names)\n",
    "# X.head()"
   ]
  },
  {
   "cell_type": "code",
   "execution_count": 5,
   "metadata": {},
   "outputs": [],
   "source": [
    "y = pd.DataFrame(target, columns=['price'])\n",
    "# y.head()"
   ]
  },
  {
   "cell_type": "code",
   "execution_count": 6,
   "metadata": {},
   "outputs": [],
   "source": [
    "## Разбейте эти датафреймы на тренировочные (X_train, y_train) и тестовые (X_test, y_test) с помощью функции train_test_split так,\n",
    "## чтобы размер тестовой выборки составлял 30% от всех данных, при этом аргумент random_state должен быть равен 42.\n",
    "\n",
    "from sklearn.model_selection import train_test_split\n",
    "X_train, X_test, y_train, y_test = train_test_split(X, y, test_size=30, random_state=42)"
   ]
  },
  {
   "cell_type": "code",
   "execution_count": 7,
   "metadata": {},
   "outputs": [],
   "source": [
    "## Создайте модель линейной регрессии под названием lr с помощью класса LinearRegression из модуля sklearn.linear_model.\n",
    "\n",
    "from sklearn.linear_model import LinearRegression\n",
    "lr = LinearRegression()"
   ]
  },
  {
   "cell_type": "code",
   "execution_count": 8,
   "metadata": {},
   "outputs": [],
   "source": [
    "## Обучите модель на тренировочных данных (используйте все признаки) и сделайте предсказание на тестовых.\n",
    "\n",
    "lr.fit(X_train, y_train)\n",
    "y_pred = lr.predict(X_test)"
   ]
  },
  {
   "cell_type": "code",
   "execution_count": 9,
   "metadata": {},
   "outputs": [
    {
     "output_type": "execute_result",
     "data": {
      "text/plain": "     y_test     y_pred\n173    23.6  29.215292\n274    32.4  36.303398\n491    13.6  14.031286\n72     22.8  24.761689\n452    16.1  18.722231\n76     20.0  23.169583\n316    17.8  17.647975\n140    14.0  13.609045\n471    19.6  23.349355\n500    16.8  20.568304",
      "text/html": "<div>\n<style scoped>\n    .dataframe tbody tr th:only-of-type {\n        vertical-align: middle;\n    }\n\n    .dataframe tbody tr th {\n        vertical-align: top;\n    }\n\n    .dataframe thead th {\n        text-align: right;\n    }\n</style>\n<table border=\"1\" class=\"dataframe\">\n  <thead>\n    <tr style=\"text-align: right;\">\n      <th></th>\n      <th>y_test</th>\n      <th>y_pred</th>\n    </tr>\n  </thead>\n  <tbody>\n    <tr>\n      <th>173</th>\n      <td>23.6</td>\n      <td>29.215292</td>\n    </tr>\n    <tr>\n      <th>274</th>\n      <td>32.4</td>\n      <td>36.303398</td>\n    </tr>\n    <tr>\n      <th>491</th>\n      <td>13.6</td>\n      <td>14.031286</td>\n    </tr>\n    <tr>\n      <th>72</th>\n      <td>22.8</td>\n      <td>24.761689</td>\n    </tr>\n    <tr>\n      <th>452</th>\n      <td>16.1</td>\n      <td>18.722231</td>\n    </tr>\n    <tr>\n      <th>76</th>\n      <td>20.0</td>\n      <td>23.169583</td>\n    </tr>\n    <tr>\n      <th>316</th>\n      <td>17.8</td>\n      <td>17.647975</td>\n    </tr>\n    <tr>\n      <th>140</th>\n      <td>14.0</td>\n      <td>13.609045</td>\n    </tr>\n    <tr>\n      <th>471</th>\n      <td>19.6</td>\n      <td>23.349355</td>\n    </tr>\n    <tr>\n      <th>500</th>\n      <td>16.8</td>\n      <td>20.568304</td>\n    </tr>\n  </tbody>\n</table>\n</div>"
     },
     "metadata": {},
     "execution_count": 9
    }
   ],
   "source": [
    "check_test = pd.DataFrame(\n",
    "    {'y_test': y_test.price, 'y_pred': y_pred.flatten()},\n",
    "    columns=['y_test', 'y_pred']\n",
    ")\n",
    "check_test.head(10)"
   ]
  },
  {
   "cell_type": "code",
   "execution_count": null,
   "metadata": {},
   "outputs": [],
   "source": []
  },
  {
   "cell_type": "code",
   "execution_count": 10,
   "metadata": {},
   "outputs": [
    {
     "output_type": "execute_result",
     "data": {
      "text/plain": "0.7649182587713662"
     },
     "metadata": {},
     "execution_count": 10
    }
   ],
   "source": [
    "## Вычислите R2 полученных предказаний с помощью r2_score из модуля sklearn.metrics.\n",
    "\n",
    "from sklearn.metrics import r2_score\n",
    "r2_score(y_test, y_pred)"
   ]
  },
  {
   "cell_type": "markdown",
   "metadata": {},
   "source": [
    "## Задание 2"
   ]
  },
  {
   "cell_type": "code",
   "execution_count": 11,
   "metadata": {},
   "outputs": [],
   "source": [
    "## Создайте модель под названием model с помощью RandomForestRegressor из модуля sklearn.ensemble.\n",
    "## Сделайте агрумент n_estimators равным 1000, max_depth должен быть равен 12 и random_state сделайте равным 42.\n",
    "\n",
    "from sklearn.ensemble import RandomForestRegressor\n",
    "model = RandomForestRegressor(n_estimators=1000, max_depth=12, random_state=42)"
   ]
  },
  {
   "cell_type": "code",
   "execution_count": 12,
   "metadata": {},
   "outputs": [
    {
     "output_type": "execute_result",
     "data": {
      "text/plain": "RandomForestRegressor(max_depth=12, n_estimators=1000, random_state=42)"
     },
     "metadata": {},
     "execution_count": 12
    }
   ],
   "source": [
    "## Обучите модель на тренировочных данных аналогично тому, как вы обучали модель LinearRegression,\n",
    "## но при этом в метод fit вместо датафрейма y_train поставьте y_train.values[:, 0], чтобы получить из датафрейма одномерный массив Numpy,\n",
    "## так как для класса RandomForestRegressor в данном методе для аргумента y предпочтительно применение массивов вместо датафрейма.\n",
    "\n",
    "model.fit(X_train, y_train.values[:, 0])"
   ]
  },
  {
   "cell_type": "code",
   "execution_count": 13,
   "metadata": {},
   "outputs": [],
   "source": [
    "## Сделайте предсказание на тестовых данных и посчитайте R2. Сравните с результатом из предыдущего задания.\n",
    "\n",
    "y_pred = model.predict(X_test)"
   ]
  },
  {
   "cell_type": "code",
   "execution_count": 14,
   "metadata": {},
   "outputs": [
    {
     "output_type": "execute_result",
     "data": {
      "text/plain": "     y_test     y_pred\n173    23.6  22.655457\n274    32.4  30.867415\n491    13.6  15.550022\n72     22.8  22.991685\n452    16.1  16.470963\n76     20.0  20.963766\n316    17.8  19.255098\n140    14.0  15.298242\n471    19.6  20.897066\n500    16.8  20.876752",
      "text/html": "<div>\n<style scoped>\n    .dataframe tbody tr th:only-of-type {\n        vertical-align: middle;\n    }\n\n    .dataframe tbody tr th {\n        vertical-align: top;\n    }\n\n    .dataframe thead th {\n        text-align: right;\n    }\n</style>\n<table border=\"1\" class=\"dataframe\">\n  <thead>\n    <tr style=\"text-align: right;\">\n      <th></th>\n      <th>y_test</th>\n      <th>y_pred</th>\n    </tr>\n  </thead>\n  <tbody>\n    <tr>\n      <th>173</th>\n      <td>23.6</td>\n      <td>22.655457</td>\n    </tr>\n    <tr>\n      <th>274</th>\n      <td>32.4</td>\n      <td>30.867415</td>\n    </tr>\n    <tr>\n      <th>491</th>\n      <td>13.6</td>\n      <td>15.550022</td>\n    </tr>\n    <tr>\n      <th>72</th>\n      <td>22.8</td>\n      <td>22.991685</td>\n    </tr>\n    <tr>\n      <th>452</th>\n      <td>16.1</td>\n      <td>16.470963</td>\n    </tr>\n    <tr>\n      <th>76</th>\n      <td>20.0</td>\n      <td>20.963766</td>\n    </tr>\n    <tr>\n      <th>316</th>\n      <td>17.8</td>\n      <td>19.255098</td>\n    </tr>\n    <tr>\n      <th>140</th>\n      <td>14.0</td>\n      <td>15.298242</td>\n    </tr>\n    <tr>\n      <th>471</th>\n      <td>19.6</td>\n      <td>20.897066</td>\n    </tr>\n    <tr>\n      <th>500</th>\n      <td>16.8</td>\n      <td>20.876752</td>\n    </tr>\n  </tbody>\n</table>\n</div>"
     },
     "metadata": {},
     "execution_count": 14
    }
   ],
   "source": [
    "check_test = pd.DataFrame(\n",
    "    {'y_test': y_test.price, 'y_pred': y_pred.flatten()},\n",
    "    columns=['y_test', 'y_pred']\n",
    ")\n",
    "check_test.head(10)"
   ]
  },
  {
   "cell_type": "code",
   "execution_count": 15,
   "metadata": {},
   "outputs": [
    {
     "output_type": "execute_result",
     "data": {
      "text/plain": "0.9345947643732305"
     },
     "metadata": {},
     "execution_count": 15
    }
   ],
   "source": [
    "r2_score(y_test, y_pred)"
   ]
  },
  {
   "cell_type": "markdown",
   "metadata": {},
   "source": [
    "## * Задание 3"
   ]
  },
  {
   "cell_type": "code",
   "execution_count": 16,
   "metadata": {},
   "outputs": [
    {
     "output_type": "stream",
     "text": "\u001b[0;31mType:\u001b[0m        property\n\u001b[0;31mString form:\u001b[0m <property object at 0x7fdd88e2acc8>\n\u001b[0;31mDocstring:\u001b[0m  \nThe impurity-based feature importances.\n\nThe higher, the more important the feature.\nThe importance of a feature is computed as the (normalized)\ntotal reduction of the criterion brought by that feature.  It is also\nknown as the Gini importance.\n\nWarning: impurity-based feature importances can be misleading for\nhigh cardinality features (many unique values). See\n:func:`sklearn.inspection.permutation_importance` as an alternative.\n\nReturns\n-------\nfeature_importances_ : ndarray of shape (n_features,)\n    The values of this array sum to 1, unless all trees are single node\n    trees consisting of only the root node, in which case it will be an\n    array of zeros.\n"
    }
   ],
   "source": [
    "## Вызовите документацию для класса RandomForestRegressor, найдите информацию об атрибуте feature_importances_.\n",
    "\n",
    "RandomForestRegressor.feature_importances_?"
   ]
  },
  {
   "cell_type": "code",
   "execution_count": 17,
   "metadata": {},
   "outputs": [
    {
     "output_type": "execute_result",
     "data": {
      "text/plain": "array([0.03635835, 0.00101299, 0.00631642, 0.0007059 , 0.02214408,\n       0.43243511, 0.01358783, 0.06849985, 0.00378938, 0.01535972,\n       0.01698606, 0.01210385, 0.37070044])"
     },
     "metadata": {},
     "execution_count": 17
    }
   ],
   "source": [
    "## С помощью этого атрибута найдите сумму всех показателей важности, установите, какие два признака показывают наибольшую важность.\n",
    "\n",
    "model.feature_importances_"
   ]
  },
  {
   "cell_type": "code",
   "execution_count": 18,
   "metadata": {},
   "outputs": [
    {
     "output_type": "execute_result",
     "data": {
      "text/plain": "1.0"
     },
     "metadata": {},
     "execution_count": 18
    }
   ],
   "source": [
    "model.feature_importances_.sum()"
   ]
  },
  {
   "cell_type": "code",
   "execution_count": 19,
   "metadata": {},
   "outputs": [
    {
     "output_type": "execute_result",
     "data": {
      "text/plain": "5"
     },
     "metadata": {},
     "execution_count": 19
    }
   ],
   "source": [
    "max_value_idx1 = model.feature_importances_.argmax()\n",
    "max_value_idx1"
   ]
  },
  {
   "cell_type": "code",
   "execution_count": 20,
   "metadata": {},
   "outputs": [
    {
     "output_type": "execute_result",
     "data": {
      "text/plain": "12"
     },
     "metadata": {},
     "execution_count": 20
    }
   ],
   "source": [
    "max_value_idx2 = 0\n",
    "max_value = model.feature_importances_[max_value_idx2]\n",
    "\n",
    "for i in range(model.n_features_):\n",
    "    if max_value < model.feature_importances_[i] and i != max_value_idx1:\n",
    "        max_value = model.feature_importances_[i]\n",
    "        max_value_idx2 = i\n",
    "\n",
    "max_value_idx2"
   ]
  },
  {
   "cell_type": "code",
   "execution_count": 21,
   "metadata": {},
   "outputs": [
    {
     "output_type": "execute_result",
     "data": {
      "text/plain": "'RM'"
     },
     "metadata": {},
     "execution_count": 21
    }
   ],
   "source": [
    "X_train.columns[max_value_idx1]"
   ]
  },
  {
   "cell_type": "code",
   "execution_count": 22,
   "metadata": {},
   "outputs": [
    {
     "output_type": "execute_result",
     "data": {
      "text/plain": "'LSTAT'"
     },
     "metadata": {},
     "execution_count": 22
    }
   ],
   "source": [
    "X_train.columns[max_value_idx2]"
   ]
  },
  {
   "cell_type": "code",
   "execution_count": null,
   "metadata": {},
   "outputs": [],
   "source": []
  }
 ],
 "metadata": {
  "language_info": {
   "codemirror_mode": {
    "name": "ipython",
    "version": 3
   },
   "file_extension": ".py",
   "mimetype": "text/x-python",
   "name": "python",
   "nbconvert_exporter": "python",
   "pygments_lexer": "ipython3",
   "version": "3.7.2-final"
  },
  "orig_nbformat": 2,
  "kernelspec": {
   "name": "python37264bitvenvvirtualenv60d598f78ab94846be4acee9173792f0",
   "display_name": "Python 3.7.2 64-bit ('.venv': virtualenv)"
  }
 },
 "nbformat": 4,
 "nbformat_minor": 2
}