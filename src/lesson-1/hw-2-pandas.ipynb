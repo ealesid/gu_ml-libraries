{
 "cells": [
  {
   "cell_type": "markdown",
   "metadata": {},
   "source": [
    "## Задание 1\n",
    "\n",
    "Импортируйте библиотеку Pandas и дайте ей псевдоним pd.\n",
    "\n",
    "Создайте датафрейм `authors` со столбцами `author_id` и `author_name`, в которых соответственно содержатся данные: \n",
    "\n",
    "`[1, 2, 3]` и \n",
    "\n",
    "`['Тургенев', 'Чехов', 'Островский']`.\n",
    "\n",
    "\n",
    "Затем создайте датафрейм `books` cо столбцами `author_id`, `book_title` и `price`, в которых соответственно содержатся данные:\n",
    "\n",
    "`[1, 1, 1, 2, 2, 3, 3]`, \n",
    "\n",
    "`['Отцы и дети', 'Рудин', 'Дворянское гнездо', 'Толстый и тонкий', 'Дама с собачкой', 'Гроза', 'Таланты и поклонники']`, \n",
    "\n",
    "`[450, 300, 350, 500, 450, 370, 290]`.\n"
   ]
  },
  {
   "cell_type": "code",
   "execution_count": 1,
   "metadata": {},
   "outputs": [],
   "source": [
    "import pandas as pd"
   ]
  },
  {
   "cell_type": "code",
   "execution_count": 2,
   "metadata": {},
   "outputs": [
    {
     "output_type": "stream",
     "name": "stdout",
     "text": "<class 'pandas.core.frame.DataFrame'>\nRangeIndex: 3 entries, 0 to 2\nData columns (total 2 columns):\n #   Column       Non-Null Count  Dtype \n---  ------       --------------  ----- \n 0   author_id    3 non-null      int64 \n 1   author_name  3 non-null      object\ndtypes: int64(1), object(1)\nmemory usage: 176.0+ bytes\n"
    }
   ],
   "source": [
    "author_id = [1, 2, 3]\n",
    "author_name = ['Тургенев', 'Чехов', 'Островский']\n",
    "\n",
    "authors = pd.DataFrame({\n",
    "    'author_id': author_id,\n",
    "    'author_name': author_name,\n",
    "})\n",
    "\n",
    "authors.info()"
   ]
  },
  {
   "cell_type": "code",
   "execution_count": 3,
   "metadata": {},
   "outputs": [
    {
     "output_type": "stream",
     "name": "stdout",
     "text": "<class 'pandas.core.frame.DataFrame'>\nRangeIndex: 7 entries, 0 to 6\nData columns (total 3 columns):\n #   Column      Non-Null Count  Dtype \n---  ------      --------------  ----- \n 0   author_id   7 non-null      int64 \n 1   book_title  7 non-null      object\n 2   price       7 non-null      int64 \ndtypes: int64(2), object(1)\nmemory usage: 296.0+ bytes\n"
    }
   ],
   "source": [
    "author_id = [1, 1, 1, 2, 2, 3, 3]\n",
    "book_title = ['Отцы и дети', 'Рудин', 'Дворянское гнездо', 'Толстый и тонкий', 'Дама с собачкой', 'Гроза', 'Таланты и поклонники']\n",
    "price = [450, 300, 350, 500, 450, 370, 290]\n",
    "\n",
    "books = pd.DataFrame({\n",
    "    'author_id': author_id,\n",
    "    'book_title': book_title,\n",
    "    'price': price,\n",
    "})\n",
    "\n",
    "books.info()"
   ]
  },
  {
   "cell_type": "markdown",
   "metadata": {},
   "source": [
    "## Задание 2\n",
    "\n",
    "Получите датафрейм `authors_price`, соединив датафреймы `authors` и `books` по полю `author_id`.\n"
   ]
  },
  {
   "cell_type": "code",
   "execution_count": 4,
   "metadata": {},
   "outputs": [
    {
     "output_type": "execute_result",
     "data": {
      "text/plain": "   author_id author_name            book_title  price\n0          1    Тургенев           Отцы и дети    450\n1          1    Тургенев                 Рудин    300\n2          1    Тургенев     Дворянское гнездо    350\n3          2       Чехов      Толстый и тонкий    500\n4          2       Чехов       Дама с собачкой    450\n5          3  Островский                 Гроза    370\n6          3  Островский  Таланты и поклонники    290",
      "text/html": "<div>\n<style scoped>\n    .dataframe tbody tr th:only-of-type {\n        vertical-align: middle;\n    }\n\n    .dataframe tbody tr th {\n        vertical-align: top;\n    }\n\n    .dataframe thead th {\n        text-align: right;\n    }\n</style>\n<table border=\"1\" class=\"dataframe\">\n  <thead>\n    <tr style=\"text-align: right;\">\n      <th></th>\n      <th>author_id</th>\n      <th>author_name</th>\n      <th>book_title</th>\n      <th>price</th>\n    </tr>\n  </thead>\n  <tbody>\n    <tr>\n      <th>0</th>\n      <td>1</td>\n      <td>Тургенев</td>\n      <td>Отцы и дети</td>\n      <td>450</td>\n    </tr>\n    <tr>\n      <th>1</th>\n      <td>1</td>\n      <td>Тургенев</td>\n      <td>Рудин</td>\n      <td>300</td>\n    </tr>\n    <tr>\n      <th>2</th>\n      <td>1</td>\n      <td>Тургенев</td>\n      <td>Дворянское гнездо</td>\n      <td>350</td>\n    </tr>\n    <tr>\n      <th>3</th>\n      <td>2</td>\n      <td>Чехов</td>\n      <td>Толстый и тонкий</td>\n      <td>500</td>\n    </tr>\n    <tr>\n      <th>4</th>\n      <td>2</td>\n      <td>Чехов</td>\n      <td>Дама с собачкой</td>\n      <td>450</td>\n    </tr>\n    <tr>\n      <th>5</th>\n      <td>3</td>\n      <td>Островский</td>\n      <td>Гроза</td>\n      <td>370</td>\n    </tr>\n    <tr>\n      <th>6</th>\n      <td>3</td>\n      <td>Островский</td>\n      <td>Таланты и поклонники</td>\n      <td>290</td>\n    </tr>\n  </tbody>\n</table>\n</div>"
     },
     "metadata": {},
     "execution_count": 4
    }
   ],
   "source": [
    "authors_price = pd.merge(authors, books)\n",
    "authors_price"
   ]
  },
  {
   "cell_type": "markdown",
   "metadata": {},
   "source": [
    "## Задание 3\n",
    "\n",
    "Создайте датафрейм `top5`, в котором содержатся строки из `authors_price` с пятью самыми дорогими книгами.\n"
   ]
  },
  {
   "cell_type": "code",
   "execution_count": 5,
   "metadata": {},
   "outputs": [
    {
     "output_type": "execute_result",
     "data": {
      "text/plain": "   author_id author_name         book_title  price\n3          2       Чехов   Толстый и тонкий    500\n0          1    Тургенев        Отцы и дети    450\n4          2       Чехов    Дама с собачкой    450\n5          3  Островский              Гроза    370\n2          1    Тургенев  Дворянское гнездо    350",
      "text/html": "<div>\n<style scoped>\n    .dataframe tbody tr th:only-of-type {\n        vertical-align: middle;\n    }\n\n    .dataframe tbody tr th {\n        vertical-align: top;\n    }\n\n    .dataframe thead th {\n        text-align: right;\n    }\n</style>\n<table border=\"1\" class=\"dataframe\">\n  <thead>\n    <tr style=\"text-align: right;\">\n      <th></th>\n      <th>author_id</th>\n      <th>author_name</th>\n      <th>book_title</th>\n      <th>price</th>\n    </tr>\n  </thead>\n  <tbody>\n    <tr>\n      <th>3</th>\n      <td>2</td>\n      <td>Чехов</td>\n      <td>Толстый и тонкий</td>\n      <td>500</td>\n    </tr>\n    <tr>\n      <th>0</th>\n      <td>1</td>\n      <td>Тургенев</td>\n      <td>Отцы и дети</td>\n      <td>450</td>\n    </tr>\n    <tr>\n      <th>4</th>\n      <td>2</td>\n      <td>Чехов</td>\n      <td>Дама с собачкой</td>\n      <td>450</td>\n    </tr>\n    <tr>\n      <th>5</th>\n      <td>3</td>\n      <td>Островский</td>\n      <td>Гроза</td>\n      <td>370</td>\n    </tr>\n    <tr>\n      <th>2</th>\n      <td>1</td>\n      <td>Тургенев</td>\n      <td>Дворянское гнездо</td>\n      <td>350</td>\n    </tr>\n  </tbody>\n</table>\n</div>"
     },
     "metadata": {},
     "execution_count": 5
    }
   ],
   "source": [
    "top5 = authors_price.nlargest(5, 'price')\n",
    "top5"
   ]
  },
  {
   "cell_type": "markdown",
   "metadata": {},
   "source": [
    "## Задание 4\n",
    "\n",
    "Создайте датафрейм `authors_stat` на основе информации из `authors_price`. \n",
    "\n",
    "В датафрейме `authors_stat` должны быть четыре столбца:\n",
    "`author_name, min_price, max_price и mean_price`,\n",
    "в которых должны содержаться соответственно `имя автора`, `минимальная`, `максимальная` и `средняя` цена на книги этого автора.\n"
   ]
  },
  {
   "cell_type": "code",
   "execution_count": 6,
   "metadata": {},
   "outputs": [
    {
     "output_type": "execute_result",
     "data": {
      "text/plain": "            price                 \n              min  max        mean\nauthor_name                       \nОстровский    290  370  330.000000\nТургенев      300  450  366.666667\nЧехов         450  500  475.000000",
      "text/html": "<div>\n<style scoped>\n    .dataframe tbody tr th:only-of-type {\n        vertical-align: middle;\n    }\n\n    .dataframe tbody tr th {\n        vertical-align: top;\n    }\n\n    .dataframe thead tr th {\n        text-align: left;\n    }\n\n    .dataframe thead tr:last-of-type th {\n        text-align: right;\n    }\n</style>\n<table border=\"1\" class=\"dataframe\">\n  <thead>\n    <tr>\n      <th></th>\n      <th colspan=\"3\" halign=\"left\">price</th>\n    </tr>\n    <tr>\n      <th></th>\n      <th>min</th>\n      <th>max</th>\n      <th>mean</th>\n    </tr>\n    <tr>\n      <th>author_name</th>\n      <th></th>\n      <th></th>\n      <th></th>\n    </tr>\n  </thead>\n  <tbody>\n    <tr>\n      <th>Островский</th>\n      <td>290</td>\n      <td>370</td>\n      <td>330.000000</td>\n    </tr>\n    <tr>\n      <th>Тургенев</th>\n      <td>300</td>\n      <td>450</td>\n      <td>366.666667</td>\n    </tr>\n    <tr>\n      <th>Чехов</th>\n      <td>450</td>\n      <td>500</td>\n      <td>475.000000</td>\n    </tr>\n  </tbody>\n</table>\n</div>"
     },
     "metadata": {},
     "execution_count": 6
    }
   ],
   "source": [
    "authors_stat = authors_price.groupby('author_name').agg({'price': ['min', 'max', 'mean']})\n",
    "authors_stat"
   ]
  },
  {
   "cell_type": "code",
   "execution_count": null,
   "metadata": {},
   "outputs": [],
   "source": []
  }
 ],
 "metadata": {
  "language_info": {
   "codemirror_mode": {
    "name": "ipython",
    "version": 3
   },
   "file_extension": ".py",
   "mimetype": "text/x-python",
   "name": "python",
   "nbconvert_exporter": "python",
   "pygments_lexer": "ipython3",
   "version": "3.7.2-final"
  },
  "orig_nbformat": 2,
  "kernelspec": {
   "name": "python37264bitvenvvirtualenv60d598f78ab94846be4acee9173792f0",
   "display_name": "Python 3.7.2 64-bit ('.venv': virtualenv)"
  }
 },
 "nbformat": 4,
 "nbformat_minor": 2
}