{
 "cells": [
  {
   "cell_type": "markdown",
   "metadata": {},
   "source": [
    "## Задание 1\n",
    "\n",
    "Импортируйте библиотеку Pandas и дайте ей псевдоним pd.\n",
    "\n",
    "Создайте датафрейм `authors` со столбцами `author_id` и `author_name`, в которых соответственно содержатся данные: \n",
    "\n",
    "`[1, 2, 3]` и \n",
    "\n",
    "`['Тургенев', 'Чехов', 'Островский']`.\n",
    "\n",
    "\n",
    "Затем создайте датафрейм `book` cо столбцами `author_id`, `book_title` и `price`, в которых соответственно содержатся данные:\n",
    "\n",
    "`[1, 1, 1, 2, 2, 3, 3]`, \n",
    "\n",
    "`['Отцы и дети', 'Рудин', 'Дворянское гнездо', 'Толстый и тонкий', 'Дама с собачкой', 'Гроза', 'Таланты и поклонники']`, \n",
    "\n",
    "`[450, 300, 350, 500, 450, 370, 290]`.\n"
   ]
  },
  {
   "cell_type": "code",
   "execution_count": 1,
   "metadata": {},
   "outputs": [],
   "source": [
    "import pandas as pd"
   ]
  },
  {
   "cell_type": "code",
   "execution_count": 2,
   "metadata": {},
   "outputs": [
    {
     "output_type": "stream",
     "name": "stdout",
     "text": "<class 'pandas.core.frame.DataFrame'>\nRangeIndex: 3 entries, 0 to 2\nData columns (total 2 columns):\n #   Column       Non-Null Count  Dtype \n---  ------       --------------  ----- \n 0   author_id    3 non-null      int64 \n 1   author_name  3 non-null      object\ndtypes: int64(1), object(1)\nmemory usage: 176.0+ bytes\n"
    }
   ],
   "source": [
    "author_id = [1, 2, 3]\n",
    "author_name = ['Тургенев', 'Чехов', 'Островский']\n",
    "\n",
    "authors = pd.DataFrame({\n",
    "    'author_id': author_id,\n",
    "    'author_name': author_name,\n",
    "})\n",
    "\n",
    "authors.info()"
   ]
  },
  {
   "cell_type": "code",
   "execution_count": 3,
   "metadata": {},
   "outputs": [
    {
     "output_type": "stream",
     "name": "stdout",
     "text": "<class 'pandas.core.frame.DataFrame'>\nRangeIndex: 7 entries, 0 to 6\nData columns (total 3 columns):\n #   Column      Non-Null Count  Dtype \n---  ------      --------------  ----- \n 0   author_id   7 non-null      int64 \n 1   book_title  7 non-null      object\n 2   price       7 non-null      int64 \ndtypes: int64(2), object(1)\nmemory usage: 296.0+ bytes\n"
    }
   ],
   "source": [
    "author_id = [1, 1, 1, 2, 2, 3, 3]\n",
    "book_title = ['Отцы и дети', 'Рудин', 'Дворянское гнездо', 'Толстый и тонкий', 'Дама с собачкой', 'Гроза', 'Таланты и поклонники']\n",
    "price = [450, 300, 350, 500, 450, 370, 290]\n",
    "\n",
    "book = pd.DataFrame({\n",
    "    'author_id': author_id,\n",
    "    'book_title': book_title,\n",
    "    'price': price,\n",
    "})\n",
    "\n",
    "book.info()"
   ]
  }
 ],
 "metadata": {
  "language_info": {
   "codemirror_mode": {
    "name": "ipython",
    "version": 3
   },
   "file_extension": ".py",
   "mimetype": "text/x-python",
   "name": "python",
   "nbconvert_exporter": "python",
   "pygments_lexer": "ipython3",
   "version": "3.7.2-final"
  },
  "orig_nbformat": 2,
  "kernelspec": {
   "name": "python37264bitvenvvirtualenv60d598f78ab94846be4acee9173792f0",
   "display_name": "Python 3.7.2 64-bit ('.venv': virtualenv)"
  }
 },
 "nbformat": 4,
 "nbformat_minor": 2
}