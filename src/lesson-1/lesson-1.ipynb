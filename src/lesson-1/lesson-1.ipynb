{
 "cells": [
  {
   "cell_type": "markdown",
   "metadata": {},
   "source": [
    "## Задание 1\n",
    "\n",
    "Импортируйте библиотеку Numpy и дайте ей псевдоним np.\n",
    "\n",
    "Создайте массив Numpy под названием a размером 5x2, то есть состоящий из 5 строк и 2 столбцов.\n",
    "\n",
    "Первый столбец должен содержать числа 1, 2, 3, 3, 1, а второй - числа 6, 8, 11, 10, 7.\n",
    "\n",
    "Будем считать, что каждый столбец - это признак, а строка - наблюдение.\n",
    "\n",
    "Затем найдите среднее значение по каждому признаку, используя метод mean массива Numpy.\n",
    "\n",
    "Результат запишите в массив mean_a, в нем должно быть 2 элемента.\n"
   ]
  },
  {
   "cell_type": "code",
   "execution_count": 26,
   "metadata": {},
   "outputs": [
    {
     "output_type": "execute_result",
     "data": {
      "text/plain": "(5, 2)"
     },
     "metadata": {},
     "execution_count": 26
    }
   ],
   "source": [
    "import numpy as np\n",
    "\n",
    "\n",
    "a = np.array([\n",
    "    [1, 6],\n",
    "    [2, 8],\n",
    "    [3, 11],\n",
    "    [3, 10],\n",
    "    [1, 7]\n",
    "])\n",
    "\n",
    "a.shape"
   ]
  },
  {
   "cell_type": "code",
   "execution_count": 27,
   "metadata": {},
   "outputs": [
    {
     "output_type": "execute_result",
     "data": {
      "text/plain": "array([2. , 8.4])"
     },
     "metadata": {},
     "execution_count": 27
    }
   ],
   "source": [
    "mean_a = np.mean(a, axis=0)\n",
    "mean_a"
   ]
  },
  {
   "cell_type": "markdown",
   "metadata": {},
   "source": [
    "## Задание 2\n",
    "\n",
    "Вычислите массив a_centered, отняв от значений массива “а” средние значения соответствующих признаков,\n",
    "содержащиеся в массиве mean_a.\n",
    "\n",
    "Вычисление должно производиться в одно действие.\n",
    "\n",
    "Получившийся массив должен иметь размер 5x2.\n"
   ]
  },
  {
   "cell_type": "code",
   "execution_count": 28,
   "metadata": {},
   "outputs": [
    {
     "output_type": "execute_result",
     "data": {
      "text/plain": "array([[-1. , -2.4],\n       [ 0. , -0.4],\n       [ 1. ,  2.6],\n       [ 1. ,  1.6],\n       [-1. , -1.4]])"
     },
     "metadata": {},
     "execution_count": 28
    }
   ],
   "source": [
    "a_centered = np.subtract(a, mean_a)\n",
    "a_centered"
   ]
  }
 ],
 "metadata": {
  "language_info": {
   "codemirror_mode": {
    "name": "ipython",
    "version": 3
   },
   "file_extension": ".py",
   "mimetype": "text/x-python",
   "name": "python",
   "nbconvert_exporter": "python",
   "pygments_lexer": "ipython3",
   "version": "3.7.2-final"
  },
  "orig_nbformat": 2,
  "kernelspec": {
   "name": "python37264bitvenvvirtualenv60d598f78ab94846be4acee9173792f0",
   "display_name": "Python 3.7.2 64-bit ('.venv': virtualenv)"
  }
 },
 "nbformat": 4,
 "nbformat_minor": 2
}